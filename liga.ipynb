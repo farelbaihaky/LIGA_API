{
 "cells": [
  {
   "cell_type": "code",
   "execution_count": 7,
   "metadata": {},
   "outputs": [
    {
     "name": "stdout",
     "output_type": "stream",
     "text": [
      "[{'team': {'name': 'Real Madrid', 'logo': 'https://a.espncdn.com/i/teamlogos/soccer/500/86.png', 'abbreviation': 'RMA'}, 'stats': {'wins': 21, 'losses': 1, 'ties': 6, 'gamesPlayed': 28, 'goalsFor': 60, 'goalsAgainst': 18, 'points': 69, 'rank': 1, 'goalDifference': 42}}, {'team': {'name': 'Girona', 'logo': 'https://a.espncdn.com/i/teamlogos/soccer/500/9812.png', 'abbreviation': 'GIR'}, 'stats': {'wins': 19, 'losses': 4, 'ties': 5, 'gamesPlayed': 28, 'goalsFor': 59, 'goalsAgainst': 33, 'points': 62, 'rank': 2, 'goalDifference': 26}}, {'team': {'name': 'Barcelona', 'logo': 'https://a.espncdn.com/i/teamlogos/soccer/500/83.png', 'abbreviation': 'BAR'}, 'stats': {'wins': 18, 'losses': 3, 'ties': 7, 'gamesPlayed': 28, 'goalsFor': 57, 'goalsAgainst': 34, 'points': 61, 'rank': 3, 'goalDifference': 23}}, {'team': {'name': 'Atlético Madrid', 'logo': 'https://a.espncdn.com/i/teamlogos/soccer/500/1068.png', 'abbreviation': 'ATM'}, 'stats': {'wins': 17, 'losses': 7, 'ties': 4, 'gamesPlayed': 28, 'goalsFor': 54, 'goalsAgainst': 31, 'points': 55, 'rank': 4, 'goalDifference': 23}}, {'team': {'name': 'Athletic Club', 'logo': 'https://a.espncdn.com/i/teamlogos/soccer/500/93.png', 'abbreviation': 'ATH'}, 'stats': {'wins': 15, 'losses': 5, 'ties': 8, 'gamesPlayed': 28, 'goalsFor': 48, 'goalsAgainst': 26, 'points': 53, 'rank': 5, 'goalDifference': 22}}, {'team': {'name': 'Real Sociedad', 'logo': 'https://a.espncdn.com/i/teamlogos/soccer/500/89.png', 'abbreviation': 'RSO'}, 'stats': {'wins': 11, 'losses': 7, 'ties': 10, 'gamesPlayed': 28, 'goalsFor': 40, 'goalsAgainst': 31, 'points': 43, 'rank': 6, 'goalDifference': 9}}, {'team': {'name': 'Real Betis', 'logo': 'https://a.espncdn.com/i/teamlogos/soccer/500/244.png', 'abbreviation': 'BET'}, 'stats': {'wins': 10, 'losses': 6, 'ties': 12, 'gamesPlayed': 28, 'goalsFor': 34, 'goalsAgainst': 31, 'points': 42, 'rank': 7, 'goalDifference': 3}}, {'team': {'name': 'Valencia', 'logo': 'https://a.espncdn.com/i/teamlogos/soccer/500/94.png', 'abbreviation': 'VAL'}, 'stats': {'wins': 11, 'losses': 9, 'ties': 7, 'gamesPlayed': 27, 'goalsFor': 32, 'goalsAgainst': 31, 'points': 40, 'rank': 8, 'goalDifference': 1}}, {'team': {'name': 'Las Palmas', 'logo': 'https://a.espncdn.com/i/teamlogos/soccer/500/98.png', 'abbreviation': 'LPA'}, 'stats': {'wins': 10, 'losses': 11, 'ties': 7, 'gamesPlayed': 28, 'goalsFor': 29, 'goalsAgainst': 31, 'points': 37, 'rank': 9, 'goalDifference': -2}}, {'team': {'name': 'Osasuna', 'logo': 'https://a.espncdn.com/i/teamlogos/soccer/500/97.png', 'abbreviation': 'OSA'}, 'stats': {'wins': 10, 'losses': 12, 'ties': 6, 'gamesPlayed': 28, 'goalsFor': 31, 'goalsAgainst': 39, 'points': 36, 'rank': 10, 'goalDifference': -8}}, {'team': {'name': 'Villarreal', 'logo': 'https://a.espncdn.com/i/teamlogos/soccer/500/102.png', 'abbreviation': 'VIL'}, 'stats': {'wins': 9, 'losses': 11, 'ties': 8, 'gamesPlayed': 28, 'goalsFor': 46, 'goalsAgainst': 51, 'points': 35, 'rank': 11, 'goalDifference': -5}}, {'team': {'name': 'Getafe', 'logo': 'https://a.espncdn.com/i/teamlogos/soccer/500/2922.png', 'abbreviation': 'GET'}, 'stats': {'wins': 8, 'losses': 9, 'ties': 11, 'gamesPlayed': 28, 'goalsFor': 36, 'goalsAgainst': 42, 'points': 35, 'rank': 12, 'goalDifference': -6}}, {'team': {'name': 'Alavés', 'logo': 'https://a.espncdn.com/i/teamlogos/soccer/500/96.png', 'abbreviation': 'ALA'}, 'stats': {'wins': 8, 'losses': 12, 'ties': 8, 'gamesPlayed': 28, 'goalsFor': 26, 'goalsAgainst': 33, 'points': 32, 'rank': 13, 'goalDifference': -7}}, {'team': {'name': 'Sevilla', 'logo': 'https://a.espncdn.com/i/teamlogos/soccer/500/243.png', 'abbreviation': 'SEV'}, 'stats': {'wins': 6, 'losses': 12, 'ties': 10, 'gamesPlayed': 28, 'goalsFor': 35, 'goalsAgainst': 42, 'points': 28, 'rank': 14, 'goalDifference': -7}}, {'team': {'name': 'Mallorca', 'logo': 'https://a.espncdn.com/i/teamlogos/soccer/500/84.png', 'abbreviation': 'MLL'}, 'stats': {'wins': 5, 'losses': 11, 'ties': 12, 'gamesPlayed': 28, 'goalsFor': 24, 'goalsAgainst': 35, 'points': 27, 'rank': 15, 'goalDifference': -11}}, {'team': {'name': 'Rayo Vallecano', 'logo': 'https://a.espncdn.com/i/teamlogos/soccer/500/101.png', 'abbreviation': 'RAY'}, 'stats': {'wins': 5, 'losses': 12, 'ties': 11, 'gamesPlayed': 28, 'goalsFor': 23, 'goalsAgainst': 38, 'points': 26, 'rank': 16, 'goalDifference': -15}}, {'team': {'name': 'Celta Vigo', 'logo': 'https://a.espncdn.com/i/teamlogos/soccer/500/85.png', 'abbreviation': 'CEL'}, 'stats': {'wins': 5, 'losses': 14, 'ties': 9, 'gamesPlayed': 28, 'goalsFor': 30, 'goalsAgainst': 43, 'points': 24, 'rank': 17, 'goalDifference': -13}}, {'team': {'name': 'Cádiz', 'logo': 'https://a.espncdn.com/i/teamlogos/soccer/500/3842.png', 'abbreviation': 'CAD'}, 'stats': {'wins': 3, 'losses': 12, 'ties': 13, 'gamesPlayed': 28, 'goalsFor': 20, 'goalsAgainst': 38, 'points': 22, 'rank': 18, 'goalDifference': -18}}, {'team': {'name': 'Granada', 'logo': 'https://a.espncdn.com/i/teamlogos/soccer/500/3747.png', 'abbreviation': 'GRA'}, 'stats': {'wins': 2, 'losses': 17, 'ties': 8, 'gamesPlayed': 27, 'goalsFor': 30, 'goalsAgainst': 57, 'points': 14, 'rank': 19, 'goalDifference': -27}}, {'team': {'name': 'Almería', 'logo': 'https://a.espncdn.com/i/teamlogos/soccer/500/6832.png', 'abbreviation': 'ALM'}, 'stats': {'wins': 0, 'losses': 18, 'ties': 10, 'gamesPlayed': 28, 'goalsFor': 27, 'goalsAgainst': 57, 'points': 10, 'rank': 20, 'goalDifference': -30}}]\n"
     ]
    }
   ],
   "source": [
    "import requests\n",
    "\n",
    "url = \"https://laliga-standings.p.rapidapi.com/\"\n",
    "\n",
    "headers_laliga = {\n",
    "\t\"X-RapidAPI-Key\": \"257bf38cfamshf91c48194aa6c72p16f38bjsn3026d017602c\",\n",
    "\t\"X-RapidAPI-Host\": \"laliga-standings.p.rapidapi.com\"\n",
    "}\n",
    "\n",
    "response = requests.get(url, headers=headers_laliga)\n",
    "\n",
    "print(response.json())"
   ]
  },
  {
   "cell_type": "code",
   "execution_count": 9,
   "metadata": {},
   "outputs": [],
   "source": [
    "laliga = response.json()"
   ]
  },
  {
   "cell_type": "code",
   "execution_count": 10,
   "metadata": {},
   "outputs": [
    {
     "name": "stdout",
     "output_type": "stream",
     "text": [
      "{'team': {'name': 'Real Madrid', 'logo': 'https://a.espncdn.com/i/teamlogos/soccer/500/86.png', 'abbreviation': 'RMA'}, 'stats': {'wins': 21, 'losses': 1, 'ties': 6, 'gamesPlayed': 28, 'goalsFor': 60, 'goalsAgainst': 18, 'points': 69, 'rank': 1, 'goalDifference': 42}}\n",
      "{'team': {'name': 'Girona', 'logo': 'https://a.espncdn.com/i/teamlogos/soccer/500/9812.png', 'abbreviation': 'GIR'}, 'stats': {'wins': 19, 'losses': 4, 'ties': 5, 'gamesPlayed': 28, 'goalsFor': 59, 'goalsAgainst': 33, 'points': 62, 'rank': 2, 'goalDifference': 26}}\n",
      "{'team': {'name': 'Barcelona', 'logo': 'https://a.espncdn.com/i/teamlogos/soccer/500/83.png', 'abbreviation': 'BAR'}, 'stats': {'wins': 18, 'losses': 3, 'ties': 7, 'gamesPlayed': 28, 'goalsFor': 57, 'goalsAgainst': 34, 'points': 61, 'rank': 3, 'goalDifference': 23}}\n",
      "{'team': {'name': 'Atlético Madrid', 'logo': 'https://a.espncdn.com/i/teamlogos/soccer/500/1068.png', 'abbreviation': 'ATM'}, 'stats': {'wins': 17, 'losses': 7, 'ties': 4, 'gamesPlayed': 28, 'goalsFor': 54, 'goalsAgainst': 31, 'points': 55, 'rank': 4, 'goalDifference': 23}}\n",
      "{'team': {'name': 'Athletic Club', 'logo': 'https://a.espncdn.com/i/teamlogos/soccer/500/93.png', 'abbreviation': 'ATH'}, 'stats': {'wins': 15, 'losses': 5, 'ties': 8, 'gamesPlayed': 28, 'goalsFor': 48, 'goalsAgainst': 26, 'points': 53, 'rank': 5, 'goalDifference': 22}}\n",
      "{'team': {'name': 'Real Sociedad', 'logo': 'https://a.espncdn.com/i/teamlogos/soccer/500/89.png', 'abbreviation': 'RSO'}, 'stats': {'wins': 11, 'losses': 7, 'ties': 10, 'gamesPlayed': 28, 'goalsFor': 40, 'goalsAgainst': 31, 'points': 43, 'rank': 6, 'goalDifference': 9}}\n",
      "{'team': {'name': 'Real Betis', 'logo': 'https://a.espncdn.com/i/teamlogos/soccer/500/244.png', 'abbreviation': 'BET'}, 'stats': {'wins': 10, 'losses': 6, 'ties': 12, 'gamesPlayed': 28, 'goalsFor': 34, 'goalsAgainst': 31, 'points': 42, 'rank': 7, 'goalDifference': 3}}\n",
      "{'team': {'name': 'Valencia', 'logo': 'https://a.espncdn.com/i/teamlogos/soccer/500/94.png', 'abbreviation': 'VAL'}, 'stats': {'wins': 11, 'losses': 9, 'ties': 7, 'gamesPlayed': 27, 'goalsFor': 32, 'goalsAgainst': 31, 'points': 40, 'rank': 8, 'goalDifference': 1}}\n",
      "{'team': {'name': 'Las Palmas', 'logo': 'https://a.espncdn.com/i/teamlogos/soccer/500/98.png', 'abbreviation': 'LPA'}, 'stats': {'wins': 10, 'losses': 11, 'ties': 7, 'gamesPlayed': 28, 'goalsFor': 29, 'goalsAgainst': 31, 'points': 37, 'rank': 9, 'goalDifference': -2}}\n",
      "{'team': {'name': 'Osasuna', 'logo': 'https://a.espncdn.com/i/teamlogos/soccer/500/97.png', 'abbreviation': 'OSA'}, 'stats': {'wins': 10, 'losses': 12, 'ties': 6, 'gamesPlayed': 28, 'goalsFor': 31, 'goalsAgainst': 39, 'points': 36, 'rank': 10, 'goalDifference': -8}}\n",
      "{'team': {'name': 'Villarreal', 'logo': 'https://a.espncdn.com/i/teamlogos/soccer/500/102.png', 'abbreviation': 'VIL'}, 'stats': {'wins': 9, 'losses': 11, 'ties': 8, 'gamesPlayed': 28, 'goalsFor': 46, 'goalsAgainst': 51, 'points': 35, 'rank': 11, 'goalDifference': -5}}\n",
      "{'team': {'name': 'Getafe', 'logo': 'https://a.espncdn.com/i/teamlogos/soccer/500/2922.png', 'abbreviation': 'GET'}, 'stats': {'wins': 8, 'losses': 9, 'ties': 11, 'gamesPlayed': 28, 'goalsFor': 36, 'goalsAgainst': 42, 'points': 35, 'rank': 12, 'goalDifference': -6}}\n",
      "{'team': {'name': 'Alavés', 'logo': 'https://a.espncdn.com/i/teamlogos/soccer/500/96.png', 'abbreviation': 'ALA'}, 'stats': {'wins': 8, 'losses': 12, 'ties': 8, 'gamesPlayed': 28, 'goalsFor': 26, 'goalsAgainst': 33, 'points': 32, 'rank': 13, 'goalDifference': -7}}\n",
      "{'team': {'name': 'Sevilla', 'logo': 'https://a.espncdn.com/i/teamlogos/soccer/500/243.png', 'abbreviation': 'SEV'}, 'stats': {'wins': 6, 'losses': 12, 'ties': 10, 'gamesPlayed': 28, 'goalsFor': 35, 'goalsAgainst': 42, 'points': 28, 'rank': 14, 'goalDifference': -7}}\n",
      "{'team': {'name': 'Mallorca', 'logo': 'https://a.espncdn.com/i/teamlogos/soccer/500/84.png', 'abbreviation': 'MLL'}, 'stats': {'wins': 5, 'losses': 11, 'ties': 12, 'gamesPlayed': 28, 'goalsFor': 24, 'goalsAgainst': 35, 'points': 27, 'rank': 15, 'goalDifference': -11}}\n",
      "{'team': {'name': 'Rayo Vallecano', 'logo': 'https://a.espncdn.com/i/teamlogos/soccer/500/101.png', 'abbreviation': 'RAY'}, 'stats': {'wins': 5, 'losses': 12, 'ties': 11, 'gamesPlayed': 28, 'goalsFor': 23, 'goalsAgainst': 38, 'points': 26, 'rank': 16, 'goalDifference': -15}}\n",
      "{'team': {'name': 'Celta Vigo', 'logo': 'https://a.espncdn.com/i/teamlogos/soccer/500/85.png', 'abbreviation': 'CEL'}, 'stats': {'wins': 5, 'losses': 14, 'ties': 9, 'gamesPlayed': 28, 'goalsFor': 30, 'goalsAgainst': 43, 'points': 24, 'rank': 17, 'goalDifference': -13}}\n",
      "{'team': {'name': 'Cádiz', 'logo': 'https://a.espncdn.com/i/teamlogos/soccer/500/3842.png', 'abbreviation': 'CAD'}, 'stats': {'wins': 3, 'losses': 12, 'ties': 13, 'gamesPlayed': 28, 'goalsFor': 20, 'goalsAgainst': 38, 'points': 22, 'rank': 18, 'goalDifference': -18}}\n",
      "{'team': {'name': 'Granada', 'logo': 'https://a.espncdn.com/i/teamlogos/soccer/500/3747.png', 'abbreviation': 'GRA'}, 'stats': {'wins': 2, 'losses': 17, 'ties': 8, 'gamesPlayed': 27, 'goalsFor': 30, 'goalsAgainst': 57, 'points': 14, 'rank': 19, 'goalDifference': -27}}\n",
      "{'team': {'name': 'Almería', 'logo': 'https://a.espncdn.com/i/teamlogos/soccer/500/6832.png', 'abbreviation': 'ALM'}, 'stats': {'wins': 0, 'losses': 18, 'ties': 10, 'gamesPlayed': 28, 'goalsFor': 27, 'goalsAgainst': 57, 'points': 10, 'rank': 20, 'goalDifference': -30}}\n"
     ]
    }
   ],
   "source": [
    "for i in laliga:\n",
    "    print(i)"
   ]
  }
 ],
 "metadata": {
  "kernelspec": {
   "display_name": "Python 3",
   "language": "python",
   "name": "python3"
  },
  "language_info": {
   "codemirror_mode": {
    "name": "ipython",
    "version": 3
   },
   "file_extension": ".py",
   "mimetype": "text/x-python",
   "name": "python",
   "nbconvert_exporter": "python",
   "pygments_lexer": "ipython3",
   "version": "3.10.2"
  }
 },
 "nbformat": 4,
 "nbformat_minor": 2
}
